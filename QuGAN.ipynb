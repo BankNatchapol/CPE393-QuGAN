{
  "nbformat": 4,
  "nbformat_minor": 0,
  "metadata": {
    "kernelspec": {
      "display_name": "Python 3",
      "language": "python",
      "name": "python3"
    },
    "language_info": {
      "codemirror_mode": {
        "name": "ipython",
        "version": 3
      },
      "file_extension": ".py",
      "mimetype": "text/x-python",
      "name": "python",
      "nbconvert_exporter": "python",
      "pygments_lexer": "ipython3",
      "version": "3.7.2"
    },
    "colab": {
      "name": "QuGAN.ipynb",
      "provenance": [],
      "collapsed_sections": [],
      "include_colab_link": true
    }
  },
  "cells": [
    {
      "cell_type": "markdown",
      "metadata": {
        "id": "view-in-github",
        "colab_type": "text"
      },
      "source": [
        "<a href=\"https://colab.research.google.com/github/BankNatchapol/CPE393-QuGAN/blob/main/QuGAN.ipynb\" target=\"_parent\"><img src=\"https://colab.research.google.com/assets/colab-badge.svg\" alt=\"Open In Colab\"/></a>"
      ]
    },
    {
      "cell_type": "code",
      "metadata": {
        "id": "L84JVra2ANc2"
      },
      "source": [
        "# This cell is added by sphinx-gallery\n",
        "# It can be customized to whatever you like\n",
        "%matplotlib inline"
      ],
      "execution_count": null,
      "outputs": []
    },
    {
      "cell_type": "markdown",
      "metadata": {
        "id": "Qc-wo3wCANc6"
      },
      "source": [
        "\n",
        "\n",
        "Quantum Generative Adversarial Networks with Cirq + TensorFlow\n",
        "==============================================================\n",
        "\n",
        ".. meta::\n",
        "    :property=\"og:description\": This demo constructs and trains a Quantum\n",
        "        Generative Adversarial Network (QGAN) using PennyLane, Cirq, and TensorFlow.\n",
        "    :property=\"og:image\": https://pennylane.ai/qml/_images/qgan3.png\n",
        "\n",
        "*Author: PennyLane dev team. Last updated: 15 Jan 2021.*\n",
        "\n",
        "This demo constructs a Quantum Generative Adversarial Network (QGAN)\n",
        "(`Lloyd and Weedbrook\n",
        "(2018) <https://journals.aps.org/prl/abstract/10.1103/PhysRevLett.121.040502>`__,\n",
        "`Dallaire-Demers and Killoran\n",
        "(2018) <https://journals.aps.org/pra/abstract/10.1103/PhysRevA.98.012324>`__)\n",
        "using two subcircuits, a *generator* and a *discriminator*. The\n",
        "generator attempts to generate synthetic quantum data to match a pattern\n",
        "of \"real\" data, while the discriminator tries to discern real data from\n",
        "fake data (see image below). The gradient of the discriminator’s output provides a\n",
        "training signal for the generator to improve its fake generated data."
      ]
    },
    {
      "cell_type": "markdown",
      "metadata": {
        "id": "hKPCWQVcANdA"
      },
      "source": [
        "Using Cirq + TensorFlow\n",
        "-----------------------\n",
        "PennyLane allows us to mix and match quantum devices and classical machine\n",
        "learning software. For this demo, we will link together\n",
        "Google's `Cirq <https://cirq.readthedocs.io/en/stable/>`_ and `TensorFlow <https://www.tensorflow.org/>`_ libraries.\n",
        "\n",
        "We begin by importing PennyLane, NumPy, and TensorFlow.\n",
        "\n"
      ]
    },
    {
      "cell_type": "code",
      "metadata": {
        "id": "GM_MYFoIAVz9",
        "colab": {
          "base_uri": "https://localhost:8080/",
          "height": 1000
        },
        "outputId": "42d63a42-d8e9-40b7-a5be-ad12860ff5cf"
      },
      "source": [
        "!pip install pennylane-cirq"
      ],
      "execution_count": null,
      "outputs": [
        {
          "output_type": "stream",
          "text": [
            "Collecting pennylane-cirq\n",
            "  Downloading https://files.pythonhosted.org/packages/fd/ac/1eaf7eee93e1832a96a77ff91a6101bf526da9c4c32cf65c307864982fef/PennyLane_Cirq-0.15.0-py3-none-any.whl\n",
            "Collecting pennylane>=0.15\n",
            "\u001b[?25l  Downloading https://files.pythonhosted.org/packages/6b/e3/be051bad48308df6bae15b5447be22cb814a06098afbd8eb507d20196025/PennyLane-0.15.1-py3-none-any.whl (455kB)\n",
            "\u001b[K     |████████████████████████████████| 460kB 11.1MB/s \n",
            "\u001b[?25hCollecting cirq>=0.9\n",
            "  Downloading https://files.pythonhosted.org/packages/eb/a1/3458cb4981e648e0167ea160f536d6a0f32d95e9340c7b1a081b9ef79189/cirq-0.11.0-py3-none-any.whl\n",
            "Requirement already satisfied: appdirs in /usr/local/lib/python3.7/dist-packages (from pennylane>=0.15->pennylane-cirq) (1.4.4)\n",
            "Requirement already satisfied: toml in /usr/local/lib/python3.7/dist-packages (from pennylane>=0.15->pennylane-cirq) (0.10.2)\n",
            "Requirement already satisfied: networkx in /usr/local/lib/python3.7/dist-packages (from pennylane>=0.15->pennylane-cirq) (2.5.1)\n",
            "Requirement already satisfied: numpy in /usr/local/lib/python3.7/dist-packages (from pennylane>=0.15->pennylane-cirq) (1.19.5)\n",
            "Collecting semantic-version==2.6\n",
            "  Downloading https://files.pythonhosted.org/packages/28/be/3a7241d731ba89063780279a5433f5971c1cf41735b64a9f874b7c3ff995/semantic_version-2.6.0-py3-none-any.whl\n",
            "Requirement already satisfied: scipy in /usr/local/lib/python3.7/dist-packages (from pennylane>=0.15->pennylane-cirq) (1.4.1)\n",
            "Requirement already satisfied: autograd in /usr/local/lib/python3.7/dist-packages (from pennylane>=0.15->pennylane-cirq) (1.3)\n",
            "Collecting cirq-google==0.11.0\n",
            "\u001b[?25l  Downloading https://files.pythonhosted.org/packages/1e/e5/72b14d2ab702184335884f05e0726f7d824483ebee2d9055b01d1f69841f/cirq_google-0.11.0-py3-none-any.whl (380kB)\n",
            "\u001b[K     |████████████████████████████████| 389kB 42.9MB/s \n",
            "\u001b[?25hCollecting cirq-core==0.11.0\n",
            "\u001b[?25l  Downloading https://files.pythonhosted.org/packages/2f/e1/e1d174f037b3019979114155dcd9257883316bfc105a5fab360e3349d9e7/cirq_core-0.11.0-py3-none-any.whl (1.5MB)\n",
            "\u001b[K     |████████████████████████████████| 1.5MB 38.2MB/s \n",
            "\u001b[?25hRequirement already satisfied: decorator<5,>=4.3 in /usr/local/lib/python3.7/dist-packages (from networkx->pennylane>=0.15->pennylane-cirq) (4.4.2)\n",
            "Requirement already satisfied: future>=0.15.2 in /usr/local/lib/python3.7/dist-packages (from autograd->pennylane>=0.15->pennylane-cirq) (0.16.0)\n",
            "Collecting protobuf~=3.13.0\n",
            "\u001b[?25l  Downloading https://files.pythonhosted.org/packages/71/dc/5ba56eab7440c62c5f808b4267e2a1d6c136e90293b43fefb1b493c6d704/protobuf-3.13.0-cp37-cp37m-manylinux1_x86_64.whl (1.3MB)\n",
            "\u001b[K     |████████████████████████████████| 1.3MB 38.8MB/s \n",
            "\u001b[?25hRequirement already satisfied: google-api-core[grpc]<2.0.0dev,>=1.14.0 in /usr/local/lib/python3.7/dist-packages (from cirq-google==0.11.0->cirq>=0.9->pennylane-cirq) (1.26.3)\n",
            "Requirement already satisfied: typing-extensions in /usr/local/lib/python3.7/dist-packages (from cirq-core==0.11.0->cirq>=0.9->pennylane-cirq) (3.7.4.3)\n",
            "Requirement already satisfied: tqdm in /usr/local/lib/python3.7/dist-packages (from cirq-core==0.11.0->cirq>=0.9->pennylane-cirq) (4.41.1)\n",
            "Requirement already satisfied: matplotlib~=3.0 in /usr/local/lib/python3.7/dist-packages (from cirq-core==0.11.0->cirq>=0.9->pennylane-cirq) (3.2.2)\n",
            "Requirement already satisfied: sympy in /usr/local/lib/python3.7/dist-packages (from cirq-core==0.11.0->cirq>=0.9->pennylane-cirq) (1.7.1)\n",
            "Requirement already satisfied: sortedcontainers~=2.0 in /usr/local/lib/python3.7/dist-packages (from cirq-core==0.11.0->cirq>=0.9->pennylane-cirq) (2.4.0)\n",
            "Requirement already satisfied: requests~=2.18 in /usr/local/lib/python3.7/dist-packages (from cirq-core==0.11.0->cirq>=0.9->pennylane-cirq) (2.23.0)\n",
            "Requirement already satisfied: pandas in /usr/local/lib/python3.7/dist-packages (from cirq-core==0.11.0->cirq>=0.9->pennylane-cirq) (1.1.5)\n",
            "Requirement already satisfied: setuptools in /usr/local/lib/python3.7/dist-packages (from protobuf~=3.13.0->cirq-google==0.11.0->cirq>=0.9->pennylane-cirq) (56.1.0)\n",
            "Requirement already satisfied: six>=1.9 in /usr/local/lib/python3.7/dist-packages (from protobuf~=3.13.0->cirq-google==0.11.0->cirq>=0.9->pennylane-cirq) (1.15.0)\n",
            "Requirement already satisfied: packaging>=14.3 in /usr/local/lib/python3.7/dist-packages (from google-api-core[grpc]<2.0.0dev,>=1.14.0->cirq-google==0.11.0->cirq>=0.9->pennylane-cirq) (20.9)\n",
            "Requirement already satisfied: google-auth<2.0dev,>=1.21.1 in /usr/local/lib/python3.7/dist-packages (from google-api-core[grpc]<2.0.0dev,>=1.14.0->cirq-google==0.11.0->cirq>=0.9->pennylane-cirq) (1.30.0)\n",
            "Requirement already satisfied: pytz in /usr/local/lib/python3.7/dist-packages (from google-api-core[grpc]<2.0.0dev,>=1.14.0->cirq-google==0.11.0->cirq>=0.9->pennylane-cirq) (2018.9)\n",
            "Requirement already satisfied: googleapis-common-protos<2.0dev,>=1.6.0 in /usr/local/lib/python3.7/dist-packages (from google-api-core[grpc]<2.0.0dev,>=1.14.0->cirq-google==0.11.0->cirq>=0.9->pennylane-cirq) (1.53.0)\n",
            "Requirement already satisfied: grpcio<2.0dev,>=1.29.0; extra == \"grpc\" in /usr/local/lib/python3.7/dist-packages (from google-api-core[grpc]<2.0.0dev,>=1.14.0->cirq-google==0.11.0->cirq>=0.9->pennylane-cirq) (1.34.1)\n",
            "Requirement already satisfied: python-dateutil>=2.1 in /usr/local/lib/python3.7/dist-packages (from matplotlib~=3.0->cirq-core==0.11.0->cirq>=0.9->pennylane-cirq) (2.8.1)\n",
            "Requirement already satisfied: kiwisolver>=1.0.1 in /usr/local/lib/python3.7/dist-packages (from matplotlib~=3.0->cirq-core==0.11.0->cirq>=0.9->pennylane-cirq) (1.3.1)\n",
            "Requirement already satisfied: pyparsing!=2.0.4,!=2.1.2,!=2.1.6,>=2.0.1 in /usr/local/lib/python3.7/dist-packages (from matplotlib~=3.0->cirq-core==0.11.0->cirq>=0.9->pennylane-cirq) (2.4.7)\n",
            "Requirement already satisfied: cycler>=0.10 in /usr/local/lib/python3.7/dist-packages (from matplotlib~=3.0->cirq-core==0.11.0->cirq>=0.9->pennylane-cirq) (0.10.0)\n",
            "Requirement already satisfied: mpmath>=0.19 in /usr/local/lib/python3.7/dist-packages (from sympy->cirq-core==0.11.0->cirq>=0.9->pennylane-cirq) (1.2.1)\n",
            "Requirement already satisfied: idna<3,>=2.5 in /usr/local/lib/python3.7/dist-packages (from requests~=2.18->cirq-core==0.11.0->cirq>=0.9->pennylane-cirq) (2.10)\n",
            "Requirement already satisfied: urllib3!=1.25.0,!=1.25.1,<1.26,>=1.21.1 in /usr/local/lib/python3.7/dist-packages (from requests~=2.18->cirq-core==0.11.0->cirq>=0.9->pennylane-cirq) (1.24.3)\n",
            "Requirement already satisfied: chardet<4,>=3.0.2 in /usr/local/lib/python3.7/dist-packages (from requests~=2.18->cirq-core==0.11.0->cirq>=0.9->pennylane-cirq) (3.0.4)\n",
            "Requirement already satisfied: certifi>=2017.4.17 in /usr/local/lib/python3.7/dist-packages (from requests~=2.18->cirq-core==0.11.0->cirq>=0.9->pennylane-cirq) (2020.12.5)\n",
            "Requirement already satisfied: cachetools<5.0,>=2.0.0 in /usr/local/lib/python3.7/dist-packages (from google-auth<2.0dev,>=1.21.1->google-api-core[grpc]<2.0.0dev,>=1.14.0->cirq-google==0.11.0->cirq>=0.9->pennylane-cirq) (4.2.2)\n",
            "Requirement already satisfied: rsa<5,>=3.1.4; python_version >= \"3.6\" in /usr/local/lib/python3.7/dist-packages (from google-auth<2.0dev,>=1.21.1->google-api-core[grpc]<2.0.0dev,>=1.14.0->cirq-google==0.11.0->cirq>=0.9->pennylane-cirq) (4.7.2)\n",
            "Requirement already satisfied: pyasn1-modules>=0.2.1 in /usr/local/lib/python3.7/dist-packages (from google-auth<2.0dev,>=1.21.1->google-api-core[grpc]<2.0.0dev,>=1.14.0->cirq-google==0.11.0->cirq>=0.9->pennylane-cirq) (0.2.8)\n",
            "Requirement already satisfied: pyasn1>=0.1.3 in /usr/local/lib/python3.7/dist-packages (from rsa<5,>=3.1.4; python_version >= \"3.6\"->google-auth<2.0dev,>=1.21.1->google-api-core[grpc]<2.0.0dev,>=1.14.0->cirq-google==0.11.0->cirq>=0.9->pennylane-cirq) (0.4.8)\n",
            "Installing collected packages: semantic-version, pennylane, protobuf, cirq-core, cirq-google, cirq, pennylane-cirq\n",
            "  Found existing installation: protobuf 3.12.4\n",
            "    Uninstalling protobuf-3.12.4:\n",
            "      Successfully uninstalled protobuf-3.12.4\n",
            "Successfully installed cirq-0.11.0 cirq-core-0.11.0 cirq-google-0.11.0 pennylane-0.15.1 pennylane-cirq-0.15.0 protobuf-3.13.0 semantic-version-2.6.0\n"
          ],
          "name": "stdout"
        },
        {
          "output_type": "display_data",
          "data": {
            "application/vnd.colab-display-data+json": {
              "pip_warning": {
                "packages": [
                  "google"
                ]
              }
            }
          },
          "metadata": {
            "tags": []
          }
        }
      ]
    },
    {
      "cell_type": "code",
      "metadata": {
        "id": "t6mV550NANdC"
      },
      "source": [
        "import pennylane as qml\n",
        "import numpy as np\n",
        "import tensorflow as tf"
      ],
      "execution_count": null,
      "outputs": []
    },
    {
      "cell_type": "markdown",
      "metadata": {
        "id": "nb68cFTRANdC"
      },
      "source": [
        "We also declare a 3-qubit simulator device running in Cirq.\n",
        "\n"
      ]
    },
    {
      "cell_type": "code",
      "metadata": {
        "id": "C4v5EpR1ANdD"
      },
      "source": [
        "dev = qml.device('cirq.simulator', wires=3)"
      ],
      "execution_count": null,
      "outputs": []
    },
    {
      "cell_type": "markdown",
      "metadata": {
        "id": "FAvQMeNHANdE"
      },
      "source": [
        "Circuit\n",
        "---------------------------\n",
        "\n",
        "In classical GANs, the starting point is to draw samples either from\n",
        "some \"real data\" distribution, or from the generator, and feed them to\n",
        "the discriminator. In this QGAN example, we will use a quantum circuit\n",
        "to generate the real data.\n",
        "\n",
        "For this simple example, our real data will be a qubit that has been\n",
        "rotated (from the starting state $\\left|0\\right\\rangle$) to some\n",
        "arbitrary, but fixed, state.\n",
        "\n"
      ]
    },
    {
      "cell_type": "markdown",
      "metadata": {
        "id": "rUgIOZK262-6"
      },
      "source": [
        "### Real part"
      ]
    },
    {
      "cell_type": "code",
      "metadata": {
        "id": "G-OjA2jeANdG"
      },
      "source": [
        "def real(angles, **kwargs):\n",
        "    qml.Hadamard(wires=0)\n",
        "    qml.Rot(*angles, wires=0)"
      ],
      "execution_count": null,
      "outputs": []
    },
    {
      "cell_type": "markdown",
      "metadata": {
        "id": "4SP60sB2ANdH"
      },
      "source": [
        "For the generator and discriminator, we will choose the same basic\n",
        "circuit structure, but acting on different wires.\n",
        "\n",
        "Both the real data circuit and the generator will output on wire 0,\n",
        "which will be connected as an input to the discriminator. Wire 1 is\n",
        "provided as a workspace for the generator, while the discriminator’s\n",
        "output will be on wire 2.\n",
        "\n"
      ]
    },
    {
      "cell_type": "markdown",
      "metadata": {
        "id": "B0jTcjgw7Ivd"
      },
      "source": [
        "### Generator Discriminator"
      ]
    },
    {
      "cell_type": "code",
      "metadata": {
        "id": "VaUpMITDANdI"
      },
      "source": [
        "def generator(w, **kwargs):\n",
        "    qml.Hadamard(wires=0)\n",
        "    qml.RX(w[0], wires=0)\n",
        "    qml.RX(w[1], wires=1)\n",
        "    qml.RY(w[2], wires=0)\n",
        "    qml.RY(w[3], wires=1)\n",
        "    qml.RZ(w[4], wires=0)\n",
        "    qml.RZ(w[5], wires=1)\n",
        "    qml.CNOT(wires=[0, 1])\n",
        "    qml.RX(w[6], wires=0)\n",
        "    qml.RY(w[7], wires=0)\n",
        "    qml.RZ(w[8], wires=0)\n",
        "\n",
        "\n",
        "def discriminator(w):\n",
        "    qml.Hadamard(wires=0)\n",
        "    qml.RX(w[0], wires=0)\n",
        "    qml.RX(w[1], wires=2)\n",
        "    qml.RY(w[2], wires=0)\n",
        "    qml.RY(w[3], wires=2)\n",
        "    qml.RZ(w[4], wires=0)\n",
        "    qml.RZ(w[5], wires=2)\n",
        "    qml.CNOT(wires=[0, 2])\n",
        "    qml.RX(w[6], wires=2)\n",
        "    qml.RY(w[7], wires=2)\n",
        "    qml.RZ(w[8], wires=2)\n",
        "    "
      ],
      "execution_count": null,
      "outputs": []
    },
    {
      "cell_type": "markdown",
      "metadata": {
        "id": "fH-uXv7vANdK"
      },
      "source": [
        "We create two QNodes. One where the real data source is wired up to the\n",
        "discriminator, and one where the generator is connected to the\n",
        "discriminator. In order to pass TensorFlow Variables into the quantum\n",
        "circuits, we specify the ``\"tf\"`` interface.\n",
        "\n"
      ]
    },
    {
      "cell_type": "markdown",
      "metadata": {
        "id": "Lx2HwK137S-G"
      },
      "source": [
        "### Discriminator-Real, Discriminator-Generator"
      ]
    },
    {
      "cell_type": "code",
      "metadata": {
        "id": "E8QL_WVYANdL"
      },
      "source": [
        "@qml.qnode(dev)\n",
        "def real_disc_circuit(phi, theta, omega, disc_weights):\n",
        "    real([phi, theta, omega])\n",
        "    discriminator(disc_weights)\n",
        "    return qml.expval(qml.PauliZ(2))\n",
        "\n",
        "\n",
        "@qml.qnode(dev)\n",
        "def gen_disc_circuit(gen_weights, disc_weights):\n",
        "    generator(gen_weights)\n",
        "    discriminator(disc_weights)\n",
        "    return qml.expval(qml.PauliZ(2))\n",
        "  \n",
        "@qml.qnode(dev)\n",
        "def gen_cost(gen_weights):\n",
        "    generator(gen_weights)\n",
        "    discriminator(disc_weights)\n",
        "    qml.PauliX(2)\n",
        "    return qml.expval(qml.PauliZ(2))"
      ],
      "execution_count": null,
      "outputs": []
    },
    {
      "cell_type": "markdown",
      "metadata": {
        "id": "Ss9kh9nVANdN"
      },
      "source": [
        "QGAN cost functions\n",
        "-------------------\n",
        "\n",
        "There are two cost functions of interest, corresponding to the two\n",
        "stages of QGAN training. These cost functions are built from two pieces:\n",
        "the first piece is the probability that the discriminator correctly\n",
        "classifies real data as real. The second piece is the probability that the\n",
        "discriminator classifies fake data (i.e., a state prepared by the\n",
        "generator) as real.\n",
        "\n",
        "The discriminator is trained to maximize the probability of\n",
        "correctly classifying real data, while minimizing the probability of\n",
        "mistakenly classifying fake data.\n",
        "\n",
        "\\begin{align}Cost_D = \\mathrm{Pr}(real|\\mathrm{fake}) - \\mathrm{Pr}(real|\\mathrm{real})\\end{align}\n",
        "\n",
        "The generator is trained to maximize the probability that the\n",
        "discriminator accepts fake data as real.\n",
        "\n",
        "\\begin{align}Cost_G = - \\mathrm{Pr}(real|\\mathrm{fake})\\end{align}\n",
        "\n",
        "\n"
      ]
    },
    {
      "cell_type": "code",
      "metadata": {
        "id": "uLeqMuo-ANdP"
      },
      "source": [
        "def prob_real_true(disc_weights):\n",
        "    true_disc_output = real_disc_circuit(phi, theta, omega, disc_weights)\n",
        "    # convert to probability\n",
        "    prob_real_true = (true_disc_output + 1) / 2\n",
        "    return prob_real_true\n",
        "\n",
        "\n",
        "def prob_fake_true(gen_weights, disc_weights):\n",
        "    fake_disc_output = gen_disc_circuit(gen_weights, disc_weights)\n",
        "    # convert to probability\n",
        "    prob_fake_true = (fake_disc_output + 1) / 2\n",
        "    return prob_fake_true\n",
        "\n",
        "\n",
        "def disc_cost(disc_weights):\n",
        "    cost = prob_fake_true(gen_weights_classical, disc_weights) - prob_real_true(disc_weights)\n",
        "    return cost"
      ],
      "execution_count": null,
      "outputs": []
    },
    {
      "cell_type": "markdown",
      "metadata": {
        "id": "Qe9EL_aQANdQ"
      },
      "source": [
        "Training the QGAN\n",
        "-----------------\n",
        "\n",
        "We initialize the fixed angles of the \"real data\" circuit, as well as\n",
        "the initial parameters for both generator and discriminator. These are\n",
        "chosen so that the generator initially prepares a state on wire 0 that\n",
        "is very close to the $\\left| 1 \\right\\rangle$ state.\n",
        "\n"
      ]
    },
    {
      "cell_type": "code",
      "metadata": {
        "id": "pOg-iEl-ANdR"
      },
      "source": [
        "phi = np.pi / 6\n",
        "theta = np.pi / 2\n",
        "omega = np.pi / 7\n",
        "np.random.seed(0)\n",
        "eps = 1e-2\n",
        "gen_weights_classical = np.array([np.pi] + [0] * 8) + \\\n",
        "                   np.random.normal(scale=eps, size=(9,))\n",
        "gen_weights_quantum = np.array([np.pi] + [0] * 8) + \\\n",
        "                   np.random.normal(scale=eps, size=(9,))                   \n",
        "disc_weights = np.random.normal(size=(9,))"
      ],
      "execution_count": null,
      "outputs": []
    },
    {
      "cell_type": "code",
      "metadata": {
        "id": "Priasv0TEd4V"
      },
      "source": [
        "gen_weights_quantum = np.array([np.pi] + [0] * 8) + \\\n",
        "                   np.random.normal(scale=eps, size=(9,))     "
      ],
      "execution_count": null,
      "outputs": []
    },
    {
      "cell_type": "code",
      "metadata": {
        "id": "NqGqJ7VaEC_p"
      },
      "source": [
        "gen_weights_classical = np.array([np.pi] + [0] * 8) + \\\n",
        "                   np.random.normal(scale=eps, size=(9,))"
      ],
      "execution_count": null,
      "outputs": []
    },
    {
      "cell_type": "markdown",
      "metadata": {
        "id": "4pDUdYPpANdS"
      },
      "source": [
        "We begin by creating the optimizer:\n",
        "\n"
      ]
    },
    {
      "cell_type": "markdown",
      "metadata": {
        "id": "4hHHJOhRARah"
      },
      "source": [
        "### Classical Discriminator's Gradient"
      ]
    },
    {
      "cell_type": "code",
      "metadata": {
        "id": "LH7HqApVANdS"
      },
      "source": [
        "opt = qml.GradientDescentOptimizer(0.1)"
      ],
      "execution_count": null,
      "outputs": []
    },
    {
      "cell_type": "markdown",
      "metadata": {
        "id": "_8NClD7mANdS"
      },
      "source": [
        "In the first stage of training, we optimize the discriminator while\n",
        "keeping the generator parameters fixed.\n",
        "\n"
      ]
    },
    {
      "cell_type": "code",
      "metadata": {
        "colab": {
          "base_uri": "https://localhost:8080/"
        },
        "id": "2Uuo_LaSANdT",
        "outputId": "d377f57c-4e81-4a2b-8b2d-f7196e090bef"
      },
      "source": [
        "for step in range(200):\n",
        "    disc_weights = opt.step(disc_cost, disc_weights)\n",
        "    if step % 5 == 0:\n",
        "        cost_val = disc_cost(disc_weights)\n",
        "        print(\"Step {}: cost = {}\".format(step, cost_val))"
      ],
      "execution_count": null,
      "outputs": [
        {
          "output_type": "stream",
          "text": [
            "Step 0: cost = -0.001386944204568863\n",
            "Step 5: cost = -0.0016108639538288116\n",
            "Step 10: cost = -0.0018765628337860107\n",
            "Step 15: cost = -0.0021944567561149597\n",
            "Step 20: cost = -0.002576857805252075\n",
            "Step 25: cost = -0.0030411817133426666\n",
            "Step 30: cost = -0.003610283136367798\n",
            "Step 35: cost = -0.004313647747039795\n",
            "Step 40: cost = -0.005192477256059647\n",
            "Step 45: cost = -0.006302010267972946\n",
            "Step 50: cost = -0.007719837129116058\n",
            "Step 55: cost = -0.009554073214530945\n",
            "Step 60: cost = -0.011957712471485138\n",
            "Step 65: cost = -0.015151388943195343\n",
            "Step 70: cost = -0.019452381879091263\n",
            "Step 75: cost = -0.025321409106254578\n",
            "Step 80: cost = -0.03342260420322418\n",
            "Step 85: cost = -0.0446961373090744\n",
            "Step 90: cost = -0.060417745262384415\n",
            "Step 95: cost = -0.08217178657650948\n",
            "Step 100: cost = -0.11159241199493408\n",
            "Step 105: cost = -0.14968453347682953\n",
            "Step 110: cost = -0.195738535374403\n",
            "Step 115: cost = -0.2464601807296276\n",
            "Step 120: cost = -0.296471931040287\n",
            "Step 125: cost = -0.3404484800994396\n",
            "Step 130: cost = -0.37532342597842216\n",
            "Step 135: cost = -0.40082424879074097\n",
            "Step 140: cost = -0.41848696023225784\n",
            "Step 145: cost = -0.4303955174982548\n",
            "Step 150: cost = -0.43841604329645634\n",
            "Step 155: cost = -0.44394957460463047\n",
            "Step 160: cost = -0.4479490742087364\n",
            "Step 165: cost = -0.4510308504104614\n",
            "Step 170: cost = -0.45357870683074\n",
            "Step 175: cost = -0.4558284990489483\n",
            "Step 180: cost = -0.45791965536773205\n",
            "Step 185: cost = -0.459934925660491\n",
            "Step 190: cost = -0.461919117718935\n",
            "Step 195: cost = -0.46389531157910824\n"
          ],
          "name": "stdout"
        }
      ]
    },
    {
      "cell_type": "markdown",
      "metadata": {
        "id": "qgGwl9BwANdT"
      },
      "source": [
        "At the discriminator’s optimum, the probability for the discriminator to\n",
        "correctly classify the real data should be close to one.\n",
        "\n"
      ]
    },
    {
      "cell_type": "code",
      "metadata": {
        "colab": {
          "base_uri": "https://localhost:8080/"
        },
        "id": "oRfRqU6FANdT",
        "outputId": "ba83b57f-b8b3-4636-ca11-1455dfeda6e8"
      },
      "source": [
        "print(\"Prob(real classified as real): \", prob_real_true(disc_weights).numpy())"
      ],
      "execution_count": null,
      "outputs": [
        {
          "output_type": "stream",
          "text": [
            "Prob(real classified as real):  0.9641100019216537\n"
          ],
          "name": "stdout"
        }
      ]
    },
    {
      "cell_type": "markdown",
      "metadata": {
        "id": "YuNkhFBHANdU"
      },
      "source": [
        "For comparison, we check how the discriminator classifies the\n",
        "generator’s (still unoptimized) fake data:\n",
        "\n"
      ]
    },
    {
      "cell_type": "code",
      "metadata": {
        "colab": {
          "base_uri": "https://localhost:8080/"
        },
        "id": "Hikvc4RGANdU",
        "outputId": "964db995-d3da-4a4f-8a10-15f030444026"
      },
      "source": [
        "print(\"Prob(fake classified as real): \", prob_fake_true(gen_weights_classical, disc_weights).numpy())"
      ],
      "execution_count": null,
      "outputs": [
        {
          "output_type": "stream",
          "text": [
            "Prob(fake classified as real):  0.4986337274312973\n"
          ],
          "name": "stdout"
        }
      ]
    },
    {
      "cell_type": "markdown",
      "metadata": {
        "id": "GlW8LgTNANdU"
      },
      "source": [
        "In the adversarial game we now have to train the generator to better\n",
        "fool the discriminator. For this demo, we only perform one stage of the\n",
        "game. For more complex models, we would continue training the models in an\n",
        "alternating fashion until we reach the optimum point of the two-player\n",
        "adversarial game.\n",
        "\n"
      ]
    },
    {
      "cell_type": "markdown",
      "metadata": {
        "id": "ghJ9B9k9_Oh3"
      },
      "source": [
        "### Classical Generator's Gradient"
      ]
    },
    {
      "cell_type": "code",
      "metadata": {
        "id": "ZYS_Cbm81fkA"
      },
      "source": [
        "opt = qml.GradientDescentOptimizer(0.01)"
      ],
      "execution_count": null,
      "outputs": []
    },
    {
      "cell_type": "code",
      "metadata": {
        "colab": {
          "base_uri": "https://localhost:8080/"
        },
        "id": "7f-zOyTIANdU",
        "outputId": "42f13c2f-ca65-4a4d-b6a1-e8d2283dc512"
      },
      "source": [
        "classical_costs = []\n",
        "for step in range(200):\n",
        "    gen_weights_classical = opt.step(gen_cost, gen_weights_classical)\n",
        "    if step % 5 == 0:\n",
        "        cost_val = gen_cost(gen_weights_classical).numpy()\n",
        "        classical_costs.append(cost_val)\n",
        "        print(\"Step {}: cost = {}\".format(step, cost_val))"
      ],
      "execution_count": null,
      "outputs": [
        {
          "output_type": "stream",
          "text": [
            "Step 0: cost = -0.007160454988479614\n",
            "Step 5: cost = -0.05657348036766052\n",
            "Step 10: cost = -0.10570716857910156\n",
            "Step 15: cost = -0.1543119251728058\n",
            "Step 20: cost = -0.2021479308605194\n",
            "Step 25: cost = -0.2489914894104004\n",
            "Step 30: cost = -0.2946356236934662\n",
            "Step 35: cost = -0.33889713883399963\n",
            "Step 40: cost = -0.38161715865135193\n",
            "Step 45: cost = -0.4226628541946411\n",
            "Step 50: cost = -0.46192893385887146\n",
            "Step 55: cost = -0.4993368983268738\n",
            "Step 60: cost = -0.5348335057497025\n",
            "Step 65: cost = -0.5683917105197906\n",
            "Step 70: cost = -0.6000065505504608\n",
            "Step 75: cost = -0.6296935528516769\n",
            "Step 80: cost = -0.6574861407279968\n",
            "Step 85: cost = -0.6834337264299393\n",
            "Step 90: cost = -0.7075968086719513\n",
            "Step 95: cost = -0.7300468534231186\n",
            "Step 100: cost = -0.750862292945385\n",
            "Step 105: cost = -0.7701276168227196\n",
            "Step 110: cost = -0.7879294082522392\n",
            "Step 115: cost = -0.8043559268116951\n",
            "Step 120: cost = -0.8194953352212906\n",
            "Step 125: cost = -0.8334355279803276\n",
            "Step 130: cost = -0.8462609276175499\n",
            "Step 135: cost = -0.8580528050661087\n",
            "Step 140: cost = -0.8688899055123329\n",
            "Step 145: cost = -0.8788464888930321\n",
            "Step 150: cost = -0.8879920840263367\n",
            "Step 155: cost = -0.896393433213234\n",
            "Step 160: cost = -0.904110174626112\n",
            "Step 165: cost = -0.9112008512020111\n",
            "Step 170: cost = -0.9177175499498844\n",
            "Step 175: cost = -0.9237082526087761\n",
            "Step 180: cost = -0.9292181208729744\n",
            "Step 185: cost = -0.9342880360782146\n",
            "Step 190: cost = -0.9389570262283087\n",
            "Step 195: cost = -0.9432577267289162\n"
          ],
          "name": "stdout"
        }
      ]
    },
    {
      "cell_type": "markdown",
      "metadata": {
        "id": "58uPb7D3_Zh3"
      },
      "source": [
        "### Quantum Generator's Natural Gradient "
      ]
    },
    {
      "cell_type": "code",
      "metadata": {
        "id": "xuJUOrHwELWE"
      },
      "source": [
        "opt = qml.QNGOptimizer(0.01)"
      ],
      "execution_count": null,
      "outputs": []
    },
    {
      "cell_type": "code",
      "metadata": {
        "colab": {
          "base_uri": "https://localhost:8080/"
        },
        "id": "_v9XRxpbEXjF",
        "outputId": "c12e3bfe-5db0-4dac-b9e1-49c9d2b11924"
      },
      "source": [
        "quantum_costs = []\n",
        "for step in range(200):\n",
        "    gen_weights_quantum = opt.step(gen_cost, gen_weights_quantum)\n",
        "    if step % 5 == 0:\n",
        "        cost_val = gen_cost(gen_weights_quantum).numpy()\n",
        "        quantum_costs.append(cost_val)\n",
        "        print(\"Step {}: cost = {}\".format(step, cost_val))"
      ],
      "execution_count": null,
      "outputs": [
        {
          "output_type": "stream",
          "text": [
            "Step 0: cost = -0.0553554892539978\n",
            "Step 5: cost = -0.24794933199882507\n",
            "Step 10: cost = -0.4221373200416565\n",
            "Step 15: cost = -0.568433940410614\n",
            "Step 20: cost = -0.6838219910860062\n",
            "Step 25: cost = -0.7705519273877144\n",
            "Step 30: cost = -0.8336468860507011\n",
            "Step 35: cost = -0.8787222914397717\n",
            "Step 40: cost = -0.9107316769659519\n",
            "Step 45: cost = -0.933538168668747\n",
            "Step 50: cost = -0.9499441739171743\n",
            "Step 55: cost = -0.9619007110595703\n",
            "Step 60: cost = -0.9707383848726749\n",
            "Step 65: cost = -0.9773586802184582\n",
            "Step 70: cost = -0.982376292347908\n",
            "Step 75: cost = -0.9862163877114654\n",
            "Step 80: cost = -0.989179661963135\n",
            "Step 85: cost = -0.9914786494337022\n",
            "Step 90: cost = -0.9932720989454538\n",
            "Step 95: cost = -0.9946754449047148\n",
            "Step 100: cost = -0.9957784155849367\n",
            "Step 105: cost = -0.9966447544284165\n",
            "Step 110: cost = -0.9973289867630228\n",
            "Step 115: cost = -0.997868879348971\n",
            "Step 120: cost = -0.9982954919105396\n",
            "Step 125: cost = -0.9986330028623343\n",
            "Step 130: cost = -0.9989000631612726\n",
            "Step 135: cost = -0.9991118675097823\n",
            "Step 140: cost = -0.9992791873228271\n",
            "Step 145: cost = -0.9994120241026394\n",
            "Step 150: cost = -0.9995175135263707\n",
            "Step 155: cost = -0.9996010224276688\n",
            "Step 160: cost = -0.9996674918802455\n",
            "Step 165: cost = -0.9997199612553231\n",
            "Step 170: cost = -0.9997618803172372\n",
            "Step 175: cost = -0.9997949605167378\n",
            "Step 180: cost = -0.9998208123797667\n",
            "Step 185: cost = -0.9998424032819457\n",
            "Step 190: cost = -0.9998588628077414\n",
            "Step 195: cost = -0.9998714694083901\n"
          ],
          "name": "stdout"
        }
      ]
    },
    {
      "cell_type": "markdown",
      "metadata": {
        "id": "YhaFY_0i_bJO"
      },
      "source": [
        "### Comparison Quantum vs Classical"
      ]
    },
    {
      "cell_type": "code",
      "metadata": {
        "colab": {
          "base_uri": "https://localhost:8080/",
          "height": 265
        },
        "id": "1MxDGAJGEo5n",
        "outputId": "cb6fd117-ba4e-409e-9a5d-1fb9158ea031"
      },
      "source": [
        "import matplotlib.pyplot as plt\n",
        "plt.plot(quantum_costs, label=\"Quantum\")\n",
        "plt.plot(classical_costs, label=\"Classical\")\n",
        "plt.legend();"
      ],
      "execution_count": null,
      "outputs": [
        {
          "output_type": "display_data",
          "data": {
            "image/png": "[encoded data removed]",
            "text/plain": [
              "<Figure size 432x288 with 1 Axes>"
            ]
          },
          "metadata": {
            "tags": [],
            "needs_background": "light"
          }
        }
      ]
    },
    {
      "cell_type": "markdown",
      "metadata": {
        "id": "hDdLIiaOANdV"
      },
      "source": [
        "At the optimum of the generator, the probability for the discriminator\n",
        "to be fooled should be close to 1.\n",
        "\n"
      ]
    },
    {
      "cell_type": "code",
      "metadata": {
        "colab": {
          "base_uri": "https://localhost:8080/"
        },
        "id": "p3bDuAYfANdV",
        "outputId": "332d3a55-31af-4edc-fa4a-69e021dae459"
      },
      "source": [
        "print(\"Prob(fake classified as real): \", prob_fake_true(gen_weights_quantum, disc_weights).numpy())"
      ],
      "execution_count": null,
      "outputs": [
        {
          "output_type": "stream",
          "text": [
            "Prob(fake classified as real):  0.9999401393033622\n"
          ],
          "name": "stdout"
        }
      ]
    },
    {
      "cell_type": "markdown",
      "metadata": {
        "id": "eBnXp2lVANdV"
      },
      "source": [
        "At the joint optimum the discriminator cost will be close to zero,\n",
        "indicating that the discriminator assigns equal probability to both real and\n",
        "generated data.\n",
        "\n"
      ]
    },
    {
      "cell_type": "code",
      "metadata": {
        "colab": {
          "base_uri": "https://localhost:8080/"
        },
        "id": "TLqHLPHeANdW",
        "outputId": "46cdeba3-3d40-464c-866e-eaaad8c1cb70"
      },
      "source": [
        "print(\"Discriminator cost: \", disc_cost(disc_weights).numpy())"
      ],
      "execution_count": null,
      "outputs": [
        {
          "output_type": "stream",
          "text": [
            "Discriminator cost:  0.00911780446767807\n"
          ],
          "name": "stdout"
        }
      ]
    },
    {
      "cell_type": "markdown",
      "metadata": {
        "id": "ClVRdEoQANdW"
      },
      "source": [
        "The generator has successfully learned how to simulate the real data\n",
        "enough to fool the discriminator.\n",
        "\n",
        "Let's conclude by comparing the states of the real data circuit and the generator. We expect\n",
        "the generator to have learned to be in a state that is very close to the one prepared in the\n",
        "real data circuit. An easy way to access the state of the first qubit is through its\n",
        "`Bloch sphere <https://en.wikipedia.org/wiki/Bloch_sphere>`__ representation:\n",
        "\n"
      ]
    },
    {
      "cell_type": "code",
      "metadata": {
        "colab": {
          "base_uri": "https://localhost:8080/"
        },
        "id": "PMq7fIiwANdX",
        "outputId": "e74feea8-24da-4b5a-e747-8903246a7ded"
      },
      "source": [
        "obs = [qml.PauliX(0), qml.PauliY(0), qml.PauliZ(0)]\n",
        "\n",
        "bloch_vector_real = qml.map(real, obs, dev)\n",
        "bloch_vector_generator = qml.map(generator, obs, dev)\n",
        "\n",
        "print(\"Real Bloch vector: {}\".format(bloch_vector_real([phi, theta, omega])))\n",
        "print(\"Generator Bloch vector: {}\".format(bloch_vector_generator(gen_weights_quantum)))"
      ],
      "execution_count": null,
      "outputs": [
        {
          "output_type": "stream",
          "text": [
            "Real Bloch vector: [-0.2169418   0.45048457 -0.86602523]\n",
            "Generator Bloch vector: [-0.28991744  0.08867157 -0.95290296]\n"
          ],
          "name": "stdout"
        }
      ]
    },
    {
      "cell_type": "code",
      "metadata": {
        "id": "CU1wLfBc8e4T",
        "colab": {
          "base_uri": "https://localhost:8080/"
        },
        "outputId": "e3e76bf8-784d-4a3a-b6e1-4eecbf1e1414"
      },
      "source": [
        "drawer = qml.draw(real_disc_circuit)\n",
        "print(drawer(phi, theta, omega, disc_weights))"
      ],
      "execution_count": null,
      "outputs": [
        {
          "output_type": "stream",
          "text": [
            " 0: ──H──────────Rot(0.524, 1.57, 0.449)──H──────────RX(0.296)──RY(-1.26)──RZ(0.864)──╭C─────────────────────────────────────┤     \n",
            " 2: ──RX(0.135)──RY(0.545)────────────────RZ(-1.31)───────────────────────────────────╰X──RX(2.58)──RY(-0.0172)──RZ(0.0458)──┤ ⟨Z⟩ \n",
            "\n"
          ],
          "name": "stdout"
        }
      ]
    },
    {
      "cell_type": "code",
      "metadata": {
        "colab": {
          "base_uri": "https://localhost:8080/"
        },
        "id": "sDtMlmMKwdIH",
        "outputId": "eba0449d-568b-47a1-b2a1-123ea454c888"
      },
      "source": [
        "drawer = qml.draw(gen_disc_circuit)\n",
        "print(drawer(gen_weights_quantum, disc_weights))"
      ],
      "execution_count": null,
      "outputs": [
        {
          "output_type": "stream",
          "text": [
            " 0: ──H──────────RX(3.14)────RY(1.56)────RZ(-0.18)──╭C──RX(0.0984)──RY(0.288)──RZ(0.0356)──H──RX(0.296)──RY(-1.26)──RZ(0.864)──╭C─────────────────────────────────────┤     \n",
            " 1: ──RX(0.347)──RY(-0.289)──RZ(-0.904)─────────────╰X─────────────────────────────────────────────────────────────────────────│──────────────────────────────────────┤     \n",
            " 2: ──RX(0.135)──RY(0.545)───RZ(-1.31)─────────────────────────────────────────────────────────────────────────────────────────╰X──RX(2.58)──RY(-0.0172)──RZ(0.0458)──┤ ⟨Z⟩ \n",
            "\n"
          ],
          "name": "stdout"
        }
      ]
    }
  ]
}